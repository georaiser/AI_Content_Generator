{
 "cells": [
  {
   "cell_type": "code",
   "execution_count": 3,
   "id": "70ef2c9b",
   "metadata": {},
   "outputs": [
    {
     "name": "stdout",
     "output_type": "stream",
     "text": [
      "Collecting streamlit\n",
      "  Obtaining dependency information for streamlit from https://files.pythonhosted.org/packages/eb/17/fc425e1d4d86e31b2aaf0812a2ef2163763a0670d671720c7c36e8679323/streamlit-1.44.1-py3-none-any.whl.metadata\n",
      "  Downloading streamlit-1.44.1-py3-none-any.whl.metadata (8.9 kB)\n",
      "Collecting altair<6,>=4.0 (from streamlit)\n",
      "  Obtaining dependency information for altair<6,>=4.0 from https://files.pythonhosted.org/packages/aa/f3/0b6ced594e51cc95d8c1fc1640d3623770d01e4969d29c0bd09945fafefa/altair-5.5.0-py3-none-any.whl.metadata\n",
      "  Downloading altair-5.5.0-py3-none-any.whl.metadata (11 kB)\n",
      "Collecting blinker<2,>=1.0.0 (from streamlit)\n",
      "  Obtaining dependency information for blinker<2,>=1.0.0 from https://files.pythonhosted.org/packages/10/cb/f2ad4230dc2eb1a74edf38f1a38b9b52277f75bef262d8908e60d957e13c/blinker-1.9.0-py3-none-any.whl.metadata\n",
      "  Using cached blinker-1.9.0-py3-none-any.whl.metadata (1.6 kB)\n",
      "Requirement already satisfied: cachetools<6,>=4.0 in c:\\users\\jcama\\anaconda3\\lib\\site-packages (from streamlit) (5.3.3)\n",
      "Requirement already satisfied: click<9,>=7.0 in c:\\users\\jcama\\anaconda3\\lib\\site-packages (from streamlit) (8.0.4)\n",
      "Requirement already satisfied: numpy<3,>=1.23 in c:\\users\\jcama\\anaconda3\\lib\\site-packages (from streamlit) (1.26.4)\n",
      "Requirement already satisfied: packaging<25,>=20 in c:\\users\\jcama\\anaconda3\\lib\\site-packages (from streamlit) (23.2)\n",
      "Requirement already satisfied: pandas<3,>=1.4.0 in c:\\users\\jcama\\anaconda3\\lib\\site-packages (from streamlit) (1.5.3)\n",
      "Requirement already satisfied: pillow<12,>=7.1.0 in c:\\users\\jcama\\anaconda3\\lib\\site-packages (from streamlit) (9.4.0)\n",
      "Requirement already satisfied: protobuf<6,>=3.20 in c:\\users\\jcama\\anaconda3\\lib\\site-packages (from streamlit) (4.25.3)\n",
      "Requirement already satisfied: pyarrow>=7.0 in c:\\users\\jcama\\anaconda3\\lib\\site-packages (from streamlit) (15.0.0)\n",
      "Requirement already satisfied: requests<3,>=2.27 in c:\\users\\jcama\\anaconda3\\lib\\site-packages (from streamlit) (2.31.0)\n",
      "Requirement already satisfied: tenacity<10,>=8.1.0 in c:\\users\\jcama\\anaconda3\\lib\\site-packages (from streamlit) (8.5.0)\n",
      "Requirement already satisfied: toml<2,>=0.10.1 in c:\\users\\jcama\\anaconda3\\lib\\site-packages (from streamlit) (0.10.2)\n",
      "Requirement already satisfied: typing-extensions<5,>=4.4.0 in c:\\users\\jcama\\anaconda3\\lib\\site-packages (from streamlit) (4.12.2)\n",
      "Requirement already satisfied: watchdog<7,>=2.1.5 in c:\\users\\jcama\\anaconda3\\lib\\site-packages (from streamlit) (2.1.6)\n",
      "Collecting gitpython!=3.1.19,<4,>=3.0.7 (from streamlit)\n",
      "  Obtaining dependency information for gitpython!=3.1.19,<4,>=3.0.7 from https://files.pythonhosted.org/packages/1d/9a/4114a9057db2f1462d5c8f8390ab7383925fe1ac012eaa42402ad65c2963/GitPython-3.1.44-py3-none-any.whl.metadata\n",
      "  Using cached GitPython-3.1.44-py3-none-any.whl.metadata (13 kB)\n",
      "Collecting pydeck<1,>=0.8.0b4 (from streamlit)\n",
      "  Obtaining dependency information for pydeck<1,>=0.8.0b4 from https://files.pythonhosted.org/packages/ab/4c/b888e6cf58bd9db9c93f40d1c6be8283ff49d88919231afe93a6bcf61626/pydeck-0.9.1-py2.py3-none-any.whl.metadata\n",
      "  Using cached pydeck-0.9.1-py2.py3-none-any.whl.metadata (4.1 kB)\n",
      "Requirement already satisfied: tornado<7,>=6.0.3 in c:\\users\\jcama\\anaconda3\\lib\\site-packages (from streamlit) (6.3.2)\n",
      "Requirement already satisfied: jinja2 in c:\\users\\jcama\\anaconda3\\lib\\site-packages (from altair<6,>=4.0->streamlit) (3.1.2)\n",
      "Requirement already satisfied: jsonschema>=3.0 in c:\\users\\jcama\\anaconda3\\lib\\site-packages (from altair<6,>=4.0->streamlit) (4.23.0)\n",
      "Collecting narwhals>=1.14.2 (from altair<6,>=4.0->streamlit)\n",
      "  Obtaining dependency information for narwhals>=1.14.2 from https://files.pythonhosted.org/packages/80/b3/5781eb874f04cb1e882a7d93cf30abcb00362a3205c5f3708a7434a1a2ac/narwhals-1.35.0-py3-none-any.whl.metadata\n",
      "  Downloading narwhals-1.35.0-py3-none-any.whl.metadata (9.2 kB)\n",
      "Requirement already satisfied: colorama in c:\\users\\jcama\\anaconda3\\lib\\site-packages (from click<9,>=7.0->streamlit) (0.4.6)\n",
      "Collecting gitdb<5,>=4.0.1 (from gitpython!=3.1.19,<4,>=3.0.7->streamlit)\n",
      "  Obtaining dependency information for gitdb<5,>=4.0.1 from https://files.pythonhosted.org/packages/a0/61/5c78b91c3143ed5c14207f463aecfc8f9dbb5092fb2869baf37c273b2705/gitdb-4.0.12-py3-none-any.whl.metadata\n",
      "  Using cached gitdb-4.0.12-py3-none-any.whl.metadata (1.2 kB)\n",
      "Requirement already satisfied: python-dateutil>=2.8.1 in c:\\users\\jcama\\anaconda3\\lib\\site-packages (from pandas<3,>=1.4.0->streamlit) (2.8.2)\n",
      "Requirement already satisfied: pytz>=2020.1 in c:\\users\\jcama\\anaconda3\\lib\\site-packages (from pandas<3,>=1.4.0->streamlit) (2023.3.post1)\n",
      "Requirement already satisfied: charset-normalizer<4,>=2 in c:\\users\\jcama\\anaconda3\\lib\\site-packages (from requests<3,>=2.27->streamlit) (2.0.4)\n",
      "Requirement already satisfied: idna<4,>=2.5 in c:\\users\\jcama\\anaconda3\\lib\\site-packages (from requests<3,>=2.27->streamlit) (3.4)\n",
      "Requirement already satisfied: urllib3<3,>=1.21.1 in c:\\users\\jcama\\anaconda3\\lib\\site-packages (from requests<3,>=2.27->streamlit) (2.0.7)\n",
      "Requirement already satisfied: certifi>=2017.4.17 in c:\\users\\jcama\\anaconda3\\lib\\site-packages (from requests<3,>=2.27->streamlit) (2023.7.22)\n",
      "Collecting smmap<6,>=3.0.1 (from gitdb<5,>=4.0.1->gitpython!=3.1.19,<4,>=3.0.7->streamlit)\n",
      "  Obtaining dependency information for smmap<6,>=3.0.1 from https://files.pythonhosted.org/packages/04/be/d09147ad1ec7934636ad912901c5fd7667e1c858e19d355237db0d0cd5e4/smmap-5.0.2-py3-none-any.whl.metadata\n",
      "  Using cached smmap-5.0.2-py3-none-any.whl.metadata (4.3 kB)\n",
      "Requirement already satisfied: MarkupSafe>=2.0 in c:\\users\\jcama\\anaconda3\\lib\\site-packages (from jinja2->altair<6,>=4.0->streamlit) (2.1.1)\n",
      "Requirement already satisfied: attrs>=22.2.0 in c:\\users\\jcama\\anaconda3\\lib\\site-packages (from jsonschema>=3.0->altair<6,>=4.0->streamlit) (25.1.0)\n",
      "Requirement already satisfied: jsonschema-specifications>=2023.03.6 in c:\\users\\jcama\\anaconda3\\lib\\site-packages (from jsonschema>=3.0->altair<6,>=4.0->streamlit) (2024.10.1)\n",
      "Requirement already satisfied: referencing>=0.28.4 in c:\\users\\jcama\\anaconda3\\lib\\site-packages (from jsonschema>=3.0->altair<6,>=4.0->streamlit) (0.36.2)\n",
      "Requirement already satisfied: rpds-py>=0.7.1 in c:\\users\\jcama\\anaconda3\\lib\\site-packages (from jsonschema>=3.0->altair<6,>=4.0->streamlit) (0.22.3)\n",
      "Requirement already satisfied: six>=1.5 in c:\\users\\jcama\\anaconda3\\lib\\site-packages (from python-dateutil>=2.8.1->pandas<3,>=1.4.0->streamlit) (1.16.0)\n",
      "Downloading streamlit-1.44.1-py3-none-any.whl (9.8 MB)\n",
      "   ---------------------------------------- 0.0/9.8 MB ? eta -:--:--\n",
      "   - -------------------------------------- 0.3/9.8 MB 5.9 MB/s eta 0:00:02\n",
      "   --- ------------------------------------ 0.9/9.8 MB 9.4 MB/s eta 0:00:01\n",
      "   ------ --------------------------------- 1.5/9.8 MB 10.8 MB/s eta 0:00:01\n",
      "   --------- ------------------------------ 2.3/9.8 MB 12.1 MB/s eta 0:00:01\n",
      "   ------------ --------------------------- 3.1/9.8 MB 14.0 MB/s eta 0:00:01\n",
      "   --------------- ------------------------ 3.9/9.8 MB 13.9 MB/s eta 0:00:01\n",
      "   ------------------ --------------------- 4.6/9.8 MB 14.8 MB/s eta 0:00:01\n",
      "   ---------------------- ----------------- 5.4/9.8 MB 15.1 MB/s eta 0:00:01\n",
      "   ------------------------- -------------- 6.3/9.8 MB 14.9 MB/s eta 0:00:01\n",
      "   -------------------------- ------------- 6.6/9.8 MB 15.1 MB/s eta 0:00:01\n",
      "   ----------------------------- ---------- 7.3/9.8 MB 14.2 MB/s eta 0:00:01\n",
      "   --------------------------------- ------ 8.2/9.8 MB 14.9 MB/s eta 0:00:01\n",
      "   ----------------------------------- ---- 8.8/9.8 MB 14.8 MB/s eta 0:00:01\n",
      "   ------------------------------------- -- 9.1/9.8 MB 14.2 MB/s eta 0:00:01\n",
      "   ---------------------------------------  9.7/9.8 MB 13.8 MB/s eta 0:00:01\n",
      "   ---------------------------------------- 9.8/9.8 MB 13.4 MB/s eta 0:00:00\n",
      "Downloading altair-5.5.0-py3-none-any.whl (731 kB)\n",
      "   ---------------------------------------- 0.0/731.2 kB ? eta -:--:--\n",
      "   --------------------------------------  727.0/731.2 kB 15.3 MB/s eta 0:00:01\n",
      "   --------------------------------------- 731.2/731.2 kB 15.3 MB/s eta 0:00:00\n",
      "Using cached blinker-1.9.0-py3-none-any.whl (8.5 kB)\n",
      "Using cached GitPython-3.1.44-py3-none-any.whl (207 kB)\n",
      "Using cached pydeck-0.9.1-py2.py3-none-any.whl (6.9 MB)\n",
      "Using cached gitdb-4.0.12-py3-none-any.whl (62 kB)\n",
      "Downloading narwhals-1.35.0-py3-none-any.whl (325 kB)\n",
      "   ---------------------------------------- 0.0/325.7 kB ? eta -:--:--\n",
      "   --------------------------------------- 325.7/325.7 kB 21.0 MB/s eta 0:00:00\n",
      "Using cached smmap-5.0.2-py3-none-any.whl (24 kB)\n",
      "Installing collected packages: smmap, narwhals, blinker, pydeck, gitdb, gitpython, altair, streamlit\n",
      "Successfully installed altair-5.5.0 blinker-1.9.0 gitdb-4.0.12 gitpython-3.1.44 narwhals-1.35.0 pydeck-0.9.1 smmap-5.0.2 streamlit-1.44.1\n"
     ]
    }
   ],
   "source": [
    "!pip install streamlit"
   ]
  },
  {
   "cell_type": "code",
   "execution_count": 20,
   "id": "bd30328f",
   "metadata": {},
   "outputs": [
    {
     "name": "stdout",
     "output_type": "stream",
     "text": [
      "Overwriting streamlit_app.py\n"
     ]
    }
   ],
   "source": [
    "%%writefile streamlit_app.py\n",
    "import os\n",
    "import json\n",
    "from dotenv import load_dotenv\n",
    "import streamlit as st\n",
    "\n",
    "def compute_content(payload, backend_url):\n",
    "    r = requests.post(\n",
    "            server_url,\n",
    "            json=payload.dict(),\n",
    "            headers={\"Content-Type\": \"application/json\"},\n",
    "            timeout=10,\n",
    "        )\n",
    "    return {\n",
    "        \"url\": payload.url,\n",
    "        \"audience\": payload.new_target_audience,\n",
    "        \"tone\": payload.new_tone,\n",
    "        \"language\": payload.language,\n",
    "        \"script\": \"This is a generated script based on the provided input.\"}\n",
    "\n",
    " \n",
    "class ContentGeneration:\n",
    "    def __init__(self, url, new_target_audience, new_tone, language):\n",
    "        self.url = url\n",
    "        self.new_target_audience = new_target_audience\n",
    "        #self.new_tone = new_tone\n",
    "        #self.language = language\n",
    "\n",
    " \n",
    "\n",
    "load_dotenv()\n",
    "\n",
    "st.title(\"AI-Powered Reel Content Generator\")\n",
    "st.write(\"Ingresa una url de un producto para crear el guion\")\n",
    "\n",
    "input_url = st.text_input(\"Ingrese la URL de un producto\")\n",
    "new_target_audience = st.text_input(\"Nuevo público objetivo\")\n",
    "\n",
    "\n",
    "if st.button(\"Generar Guion\"):\n",
    "    if input_url and new_target_audience and new_tone and language:\n",
    "        backend_url = os.getenv(\"BACKEND_URL\", \"http://backend:8004/content_generator\")\n",
    "        payload = ContentGeneration(\n",
    "            url=input_url,\n",
    "            new_target_audience=new_target_audience,\n",
    "\n",
    "        )\n",
    "        refined_script = compute_content(payload, backend_url)\n",
    "\n",
    "        st.header(\"Guion Finalizado\")\n",
    "        st.download_button(\n",
    "            label=\"Descargar Guion en JSON\",\n",
    "            data=json.dumps(refined_script, ensure_ascii=False, indent=4),\n",
    "            file_name=\"guion.json\",\n",
    "            mime=\"application/json\"\n",
    "        )\n",
    "    else:\n",
    "        st.warning(\"Por favor, completa todos los campos.\")\n"
   ]
  },
  {
   "cell_type": "code",
   "execution_count": 21,
   "id": "6dd46018",
   "metadata": {},
   "outputs": [
    {
     "name": "stdout",
     "output_type": "stream",
     "text": [
      "\n",
      "  You can now view your Streamlit app in your browser.\n",
      "\n",
      "  Local URL: http://localhost:8506\n",
      "\n",
      "Streamlit app is running at: http://localhost:8506\n"
     ]
    }
   ],
   "source": [
    "import subprocess\n",
    "import threading\n",
    "import re\n",
    "import sys\n",
    "\n",
    "def run_streamlit_app():\n",
    "\n",
    "    proc = subprocess.Popen(\n",
    "        [\"streamlit\", \"run\", \"streamlit_app.py\"],\n",
    "        stdout=subprocess.PIPE,\n",
    "        stderr=subprocess.STDOUT,\n",
    "        text=True,\n",
    "    )\n",
    "    \n",
    " \n",
    "    for line in proc.stdout:\n",
    "        sys.stdout.write(line)\n",
    " \n",
    "        if \"Local URL:\" in line:\n",
    "            match = re.search(r\"Local URL:\\s*(http://localhost:(\\d+))\", line)\n",
    "            if match:\n",
    "                local_url = match.group(1)\n",
    "                print(\"\\nStreamlit app is running at:\", local_url)\n",
    "                 \n",
    "                break\n",
    "\n",
    " \n",
    "thread = threading.Thread(target=run_streamlit_app, daemon=True)\n",
    "thread.start()\n"
   ]
  },
  {
   "cell_type": "markdown",
   "id": "0a10921c",
   "metadata": {},
   "source": [
    "# FastApi "
   ]
  },
  {
   "cell_type": "code",
   "execution_count": 24,
   "id": "b82d1d28",
   "metadata": {},
   "outputs": [],
   "source": [
    "from fastapi import FastAPI, HTTPException\n",
    "from pydantic import BaseModel, HttpUrl\n",
    "import logging\n",
    "\n",
    "# Define your request model.\n",
    "class ContentGeneration(BaseModel):\n",
    "    url: HttpUrl\n",
    "    target_audience: str = \"default_audience\"\n",
    "    tone: str = \"default_tone\"\n",
    "    language: str = \"default_language\"\n",
    "\n",
    "# Configure logging.\n",
    "logging.basicConfig(level=logging.INFO)\n",
    "logger = logging.getLogger(__name__)\n",
    "\n",
    "# Create the FastAPI app.\n",
    "app = FastAPI(\n",
    "    title=\"AI-Powered Text Generation with LLMs\",\n",
    "    description=\"\"\"Create high-quality text content using advanced Large Language Models (LLMs).\n",
    "                  Generate textual descriptions, narratives, and insights from images and text inputs.\n",
    "                  Access the Streamlit interface at port 8501 for an interactive experience.\"\"\",\n",
    "    version=\"0.1.0\",\n",
    ")\n",
    "\n",
    "@app.get(\"/health\")\n",
    "def health_check():\n",
    "    \"\"\"Endpoint to check the health of the API\"\"\"\n",
    "    return {\"status\": \"ok\"}\n",
    "\n",
    "@app.post(\"/content_generator\")\n",
    "def generate_content(request: ContentGeneration):\n",
    "    \"\"\"Generate content based on metadata scraped from the given URL\"\"\"\n",
    "    try:\n",
    "        logger.info(f\"Scraping metadata from URL: {request.url}\")\n",
    "        metadata = {\"title\": \"Placeholder Product\", \"description\": \"Placeholder description\"}\n",
    "        if not metadata or not isinstance(metadata, dict):\n",
    "            raise ValueError(\"No se pudo extraer metadata válida del producto.\")\n",
    "        logger.info(f\"Metadata scraped: {metadata}\")\n",
    "        content = \"Generated content placeholder based on the provided input.\"\n",
    "        logger.info(\"Content generated successfully\")\n",
    "        return {\"generated_content\": content}\n",
    "\n",
    "    except ValueError as ve:\n",
    "        logger.error(f\"ValueError: {ve}\")\n",
    "        raise HTTPException(\n",
    "            status_code=400, detail={\"error\": \"Datos inválidos\", \"message\": str(ve)}\n",
    "        )\n",
    "\n",
    "    except Exception as e:\n",
    "        logger.error(f\"Error interno: {e}\")\n",
    "        raise HTTPException(\n",
    "            status_code=500, detail={\"error\": \"Error interno\", \"message\": str(e)}\n",
    "        )\n",
    "\n"
   ]
  },
  {
   "cell_type": "code",
   "execution_count": 25,
   "id": "3e0693bf",
   "metadata": {},
   "outputs": [
    {
     "name": "stdout",
     "output_type": "stream",
     "text": [
      "FastAPI app is running at http://127.0.0.1:8501\n"
     ]
    },
    {
     "name": "stderr",
     "output_type": "stream",
     "text": [
      "INFO:     Started server process [45036]\n",
      "INFO:     Waiting for application startup.\n",
      "INFO:     Application startup complete.\n",
      "ERROR:    [Errno 10048] error while attempting to bind on address ('127.0.0.1', 8501): only one usage of each socket address (protocol/network address/port) is normally permitted\n",
      "INFO:     Waiting for application shutdown.\n",
      "INFO:     Application shutdown complete.\n"
     ]
    },
    {
     "name": "stdout",
     "output_type": "stream",
     "text": [
      "INFO:     127.0.0.1:61380 - \"GET / HTTP/1.1\" 404 Not Found\n",
      "INFO:     127.0.0.1:61661 - \"GET /docs HTTP/1.1\" 200 OK\n",
      "INFO:     127.0.0.1:61661 - \"GET /openapi.json HTTP/1.1\" 200 OK\n",
      "INFO:     127.0.0.1:61661 - \"GET /health HTTP/1.1\" 200 OK\n"
     ]
    },
    {
     "name": "stderr",
     "output_type": "stream",
     "text": [
      "INFO:__main__:Scraping metadata from URL: https://example.com/\n",
      "INFO:__main__:Metadata scraped: {'title': 'Placeholder Product', 'description': 'Placeholder description'}\n",
      "INFO:__main__:Content generated successfully\n"
     ]
    },
    {
     "name": "stdout",
     "output_type": "stream",
     "text": [
      "INFO:     127.0.0.1:61752 - \"POST /content_generator HTTP/1.1\" 200 OK\n"
     ]
    }
   ],
   "source": [
    "\n",
    "import threading\n",
    "import uvicorn\n",
    "\n",
    "def run_fastapi_app():\n",
    "    uvicorn.run(app, host=\"127.0.0.1\", port=8501, log_level=\"info\")\n",
    "\n",
    "thread = threading.Thread(target=run_fastapi_app, daemon=True)\n",
    "thread.start()\n",
    "\n",
    "print(\"FastAPI app is running at http://127.0.0.1:8501\")\n"
   ]
  },
  {
   "cell_type": "code",
   "execution_count": null,
   "id": "a578600b",
   "metadata": {},
   "outputs": [],
   "source": []
  }
 ],
 "metadata": {
  "kernelspec": {
   "display_name": "Python 3 (ipykernel)",
   "language": "python",
   "name": "python3"
  },
  "language_info": {
   "codemirror_mode": {
    "name": "ipython",
    "version": 3
   },
   "file_extension": ".py",
   "mimetype": "text/x-python",
   "name": "python",
   "nbconvert_exporter": "python",
   "pygments_lexer": "ipython3",
   "version": "3.11.5"
  }
 },
 "nbformat": 4,
 "nbformat_minor": 5
}
