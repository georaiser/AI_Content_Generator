{
 "cells": [
  {
   "cell_type": "code",
   "execution_count": 15,
   "id": "95d1fbf3",
   "metadata": {},
   "outputs": [],
   "source": [
    "import os\n",
    "from dotenv import load_dotenv\n",
    "from pydantic import BaseModel, Field\n",
    "from langchain_core.output_parsers import JsonOutputParser\n",
    "from langchain.prompts import PromptTemplate\n",
    "from langchain.chains import LLMChain"
   ]
  },
  {
   "cell_type": "code",
   "execution_count": 2,
   "id": "f9ab89f5",
   "metadata": {},
   "outputs": [
    {
     "name": "stdout",
     "output_type": "stream",
     "text": [
      "Requirement already satisfied: langchain-groq in c:\\users\\jcama\\anaconda3\\lib\\site-packages (0.1.10)\n",
      "Requirement already satisfied: groq<1,>=0.4.1 in c:\\users\\jcama\\anaconda3\\lib\\site-packages (from langchain-groq) (0.18.0)\n",
      "Requirement already satisfied: langchain-core<0.3.0,>=0.2.39 in c:\\users\\jcama\\anaconda3\\lib\\site-packages (from langchain-groq) (0.2.43)\n",
      "Requirement already satisfied: anyio<5,>=3.5.0 in c:\\users\\jcama\\anaconda3\\lib\\site-packages (from groq<1,>=0.4.1->langchain-groq) (3.5.0)\n",
      "Requirement already satisfied: distro<2,>=1.7.0 in c:\\users\\jcama\\anaconda3\\lib\\site-packages (from groq<1,>=0.4.1->langchain-groq) (1.9.0)\n",
      "Requirement already satisfied: httpx<1,>=0.23.0 in c:\\users\\jcama\\anaconda3\\lib\\site-packages (from groq<1,>=0.4.1->langchain-groq) (0.27.0)\n",
      "Requirement already satisfied: pydantic<3,>=1.9.0 in c:\\users\\jcama\\anaconda3\\lib\\site-packages (from groq<1,>=0.4.1->langchain-groq) (1.10.11)\n",
      "Requirement already satisfied: sniffio in c:\\users\\jcama\\anaconda3\\lib\\site-packages (from groq<1,>=0.4.1->langchain-groq) (1.2.0)\n",
      "Requirement already satisfied: typing-extensions<5,>=4.10 in c:\\users\\jcama\\anaconda3\\lib\\site-packages (from groq<1,>=0.4.1->langchain-groq) (4.12.2)\n",
      "Requirement already satisfied: PyYAML>=5.3 in c:\\users\\jcama\\anaconda3\\lib\\site-packages (from langchain-core<0.3.0,>=0.2.39->langchain-groq) (6.0.1)\n",
      "Requirement already satisfied: jsonpatch<2.0,>=1.33 in c:\\users\\jcama\\anaconda3\\lib\\site-packages (from langchain-core<0.3.0,>=0.2.39->langchain-groq) (1.33)\n",
      "Requirement already satisfied: langsmith<0.2.0,>=0.1.112 in c:\\users\\jcama\\anaconda3\\lib\\site-packages (from langchain-core<0.3.0,>=0.2.39->langchain-groq) (0.1.147)\n",
      "Requirement already satisfied: packaging<25,>=23.2 in c:\\users\\jcama\\anaconda3\\lib\\site-packages (from langchain-core<0.3.0,>=0.2.39->langchain-groq) (23.2)\n",
      "Requirement already satisfied: tenacity!=8.4.0,<9.0.0,>=8.1.0 in c:\\users\\jcama\\anaconda3\\lib\\site-packages (from langchain-core<0.3.0,>=0.2.39->langchain-groq) (8.5.0)\n",
      "Requirement already satisfied: idna>=2.8 in c:\\users\\jcama\\anaconda3\\lib\\site-packages (from anyio<5,>=3.5.0->groq<1,>=0.4.1->langchain-groq) (3.4)\n",
      "Requirement already satisfied: certifi in c:\\users\\jcama\\anaconda3\\lib\\site-packages (from httpx<1,>=0.23.0->groq<1,>=0.4.1->langchain-groq) (2023.7.22)\n",
      "Requirement already satisfied: httpcore==1.* in c:\\users\\jcama\\anaconda3\\lib\\site-packages (from httpx<1,>=0.23.0->groq<1,>=0.4.1->langchain-groq) (1.0.5)\n",
      "Requirement already satisfied: h11<0.15,>=0.13 in c:\\users\\jcama\\anaconda3\\lib\\site-packages (from httpcore==1.*->httpx<1,>=0.23.0->groq<1,>=0.4.1->langchain-groq) (0.14.0)\n",
      "Requirement already satisfied: jsonpointer>=1.9 in c:\\users\\jcama\\anaconda3\\lib\\site-packages (from jsonpatch<2.0,>=1.33->langchain-core<0.3.0,>=0.2.39->langchain-groq) (2.1)\n",
      "Requirement already satisfied: orjson<4.0.0,>=3.9.14 in c:\\users\\jcama\\anaconda3\\lib\\site-packages (from langsmith<0.2.0,>=0.1.112->langchain-core<0.3.0,>=0.2.39->langchain-groq) (3.9.15)\n",
      "Requirement already satisfied: requests<3,>=2 in c:\\users\\jcama\\anaconda3\\lib\\site-packages (from langsmith<0.2.0,>=0.1.112->langchain-core<0.3.0,>=0.2.39->langchain-groq) (2.31.0)\n",
      "Requirement already satisfied: requests-toolbelt<2.0.0,>=1.0.0 in c:\\users\\jcama\\anaconda3\\lib\\site-packages (from langsmith<0.2.0,>=0.1.112->langchain-core<0.3.0,>=0.2.39->langchain-groq) (1.0.0)\n",
      "Requirement already satisfied: charset-normalizer<4,>=2 in c:\\users\\jcama\\anaconda3\\lib\\site-packages (from requests<3,>=2->langsmith<0.2.0,>=0.1.112->langchain-core<0.3.0,>=0.2.39->langchain-groq) (2.0.4)\n",
      "Requirement already satisfied: urllib3<3,>=1.21.1 in c:\\users\\jcama\\anaconda3\\lib\\site-packages (from requests<3,>=2->langsmith<0.2.0,>=0.1.112->langchain-core<0.3.0,>=0.2.39->langchain-groq) (2.0.7)\n"
     ]
    }
   ],
   "source": [
    "!pip install langchain-groq"
   ]
  },
  {
   "cell_type": "code",
   "execution_count": 5,
   "id": "c1f2ee71",
   "metadata": {},
   "outputs": [],
   "source": [
    "VISION_MODEL_NAME=\"llama-3.2-11b-vision-preview\""
   ]
  },
  {
   "cell_type": "code",
   "execution_count": 34,
   "id": "27945111",
   "metadata": {},
   "outputs": [],
   "source": [
    "TEMPLATE=\"\"\"\n",
    "Eres un experto storyteller\n",
    "en particular \n",
    "{topic}\n",
    "\n",
    "El formato de salida debe ser el siguiente:{format_instructions}\n",
    "\"\"\""
   ]
  },
  {
   "cell_type": "code",
   "execution_count": 35,
   "id": "db2afd6a",
   "metadata": {},
   "outputs": [],
   "source": [
    "class ContentGenerationScript(BaseModel):\n",
    "    text: str = Field(..., description=\"Contenido textual de la historia\")\n",
    "\n",
    "parser= JsonOutputParser(pydantic_object=ContentGenerationScript)"
   ]
  },
  {
   "cell_type": "code",
   "execution_count": 36,
   "id": "2d828c58",
   "metadata": {
    "scrolled": true
   },
   "outputs": [
    {
     "data": {
      "text/plain": [
       "{'topic': 'Ironman',\n",
       " 'text': '¡Excelente! Como experto en storytelling de Iron Man, te presento la siguiente historia en formato JSON:\\n\\n```\\n{\\n  \"text\": \"Tony Stark, el genio detrás de Iron Man, se despertó en su habitación de hospital con una sensación de confusión y dolor. Recordaba vagamente el accidente en el que su cohete espacial se estrelló en el Pacífico, pero no podía recordar cómo había sobrevivido. Mientras intentaba recordar los detalles, escuchó la voz de Pepper Potts, su secretaria y amiga, que le decía que había sido rescatado y que estaba en el hospital. Tony se dio cuenta de que había perdido la memoria y que su identidad como Iron Man estaba en peligro. Decidió investigar y descubrir la verdad sobre su pasado y su identidad, pero pronto se dio cuenta de que no era el único que buscaba la verdad...\"\\n}\\n```\\n\\nEspero que disfrutes de esta historia en formato JSON. ¡Si necesitas más, no dudes en preguntar!'}"
      ]
     },
     "execution_count": 36,
     "metadata": {},
     "output_type": "execute_result"
    }
   ],
   "source": [
    "from langchain.prompts import PromptTemplate\n",
    "from langchain.chains import LLMChain\n",
    "from langchain_groq import ChatGroq\n",
    "\n",
    "llm = ChatGroq(\n",
    "    temperature=0,\n",
    "    model_name=\"llama3-8b-8192\",\n",
    "    groq_api_key=\"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\"\n",
    ")\n",
    "\n",
    "\n",
    "prompt = PromptTemplate(\n",
    "    input_variables=[\"topic\"],\n",
    "    template=TEMPLATE,\n",
    "    partial_variables={\"format_instructions\": parser.get_format_instructions()},\n",
    ")\n",
    "\n",
    "\n",
    "chain = LLMChain(llm=llm, prompt=prompt)\n",
    "\n",
    "\n",
    "result = chain.invoke({\"topic\": \"Ironman\"})\n",
    "\n",
    "\n",
    "result"
   ]
  },
  {
   "cell_type": "code",
   "execution_count": 37,
   "id": "22383875",
   "metadata": {},
   "outputs": [],
   "source": [
    "import base64\n",
    "from io import BytesIO\n",
    "from PIL import Image\n",
    "import os\n",
    "\n",
    "import os\n",
    "from dotenv import load_dotenv\n",
    "from langchain_groq import ChatGroq\n",
    "from groq import Groq\n",
    "\n",
    "def encode_image(image):\n",
    "    buffered = BytesIO()\n",
    "    image.save(buffered, format=\"PNG\")\n",
    "    return base64.b64encode(buffered.getvalue()).decode(\"utf-8\")\n",
    "\n",
    "def describe_image(image_path):\n",
    "    \n",
    "    VISION_MODEL_NAME=\"llama-3.2-11b-vision-preview\"\n",
    "    client = Groq(api_key='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')\n",
    "    vision_model = VISION_MODEL_NAME\n",
    "    \n",
    "    image = Image.open(image_path)\n",
    "    base64_image = encode_image(image)\n",
    "    \n",
    "    completion = client.chat.completions.create(\n",
    "        model=vision_model,\n",
    "        messages=[\n",
    "            {\n",
    "                \"role\": \"user\",\n",
    "                \"content\": [\n",
    "                    {\"type\": \"text\", \"text\": \"Describe la imagen a detalle en espanol\"},\n",
    "                    {\n",
    "                        \"type\": \"image_url\",\n",
    "                        \"image_url\": {\n",
    "                            \"url\": f\"data:image/jpeg;base64,{base64_image}\"\n",
    "                        },\n",
    "                    },\n",
    "                ],\n",
    "            }\n",
    "        ],\n",
    "        temperature=1,\n",
    "        max_completion_tokens=1024,\n",
    "    )\n",
    "    \n",
    "    return completion.choices[0].message.content\n",
    "\n",
    "\n"
   ]
  },
  {
   "cell_type": "code",
   "execution_count": 39,
   "id": "95030d48",
   "metadata": {},
   "outputs": [
    {
     "name": "stdout",
     "output_type": "stream",
     "text": [
      "Image description: Bien, se nos muestra un reloj de suelo de dos tonos. Por lo tanto, la imagen que estamos buscando se refiere a un reloj hecho en dos colores, solo de uno de los cuales es visible en esta foto. La imagen probablemente se muestra desde un ángulo, ya que la parte final de las dos agujas de la cara del reloj no está visible. En el centro del reloj, se muestra «Rolex» en minúsculas. El dial negro tiene letras y números, todos rematados o dibujados en blanco, desde la posición de la manecilla de las horas hasta un punto del reloj, y otra de las manecillas de alfiler que toca «Rolex». Estas 4 letras se encuentran en el centro de la imagen en el lado derecho del reloj. \n",
      "\n",
      "La banda del reloj es en una posición de suelo donde se muestra la parte superior de su parte central, el doblado de la banda y toda su extensión, es paralela a la línea que conecta los dos puntos de la imagen. \n",
      "Esto hace que la mitad superior del reloj sea visible, de la manecilla de las horas hasta toda la parte central para mostrar dos pequeños rectángulos el uno al lado del otro, uno de ellos «2253» (el anillo de las manecillas de las horas).\n",
      "\n",
      "Adicionalmente, el final del brazalete que sostiene la piel, no se observa en el lado derecho de la imagen. Tampoco, el adentro del horloge, ya que se muestra desde un ángulo, se muestra, de menor a mayor, como si se fuera tope tope, y como si encontrase difumina el contorno, lo que se vio que es un dibujo que va hacia dentro, en ángulo, de los dos anillos que circunviertenel la manilla del tipo, haciendo contacto con el aro del reloj, adentrándose en ambos lados durante aproximadamente tres cuartas partes de su sección. De estos, se asoma solo un cuarto de la sección.\n"
     ]
    }
   ],
   "source": [
    "image_path = \"C:/Users/jcama/Desktop/rolex.jpg\" \n",
    "description = describe_image(image_path)\n",
    "print(\"Image description:\", description)"
   ]
  },
  {
   "cell_type": "code",
   "execution_count": null,
   "id": "17d5662a",
   "metadata": {},
   "outputs": [],
   "source": []
  },
  {
   "cell_type": "code",
   "execution_count": null,
   "id": "7713cebb",
   "metadata": {},
   "outputs": [],
   "source": []
  }
 ],
 "metadata": {
  "kernelspec": {
   "display_name": "Python 3 (ipykernel)",
   "language": "python",
   "name": "python3"
  },
  "language_info": {
   "codemirror_mode": {
    "name": "ipython",
    "version": 3
   },
   "file_extension": ".py",
   "mimetype": "text/x-python",
   "name": "python",
   "nbconvert_exporter": "python",
   "pygments_lexer": "ipython3",
   "version": "3.11.5"
  }
 },
 "nbformat": 4,
 "nbformat_minor": 5
}
