{
 "cells": [
  {
   "cell_type": "markdown",
   "id": "ff53b521",
   "metadata": {},
   "source": [
    "# Intro a BeatifulSoup"
   ]
  },
  {
   "cell_type": "markdown",
   "id": "bf9fec36",
   "metadata": {},
   "source": [
    "### Librerias"
   ]
  },
  {
   "cell_type": "code",
   "execution_count": 7,
   "id": "42ed6447",
   "metadata": {},
   "outputs": [],
   "source": [
    "import requests\n",
    "from bs4 import BeautifulSoup"
   ]
  },
  {
   "cell_type": "markdown",
   "id": "722de020",
   "metadata": {},
   "source": [
    "### Url"
   ]
  },
  {
   "cell_type": "code",
   "execution_count": 36,
   "id": "54e3523c",
   "metadata": {},
   "outputs": [],
   "source": [
    "url = 'https://www.falabella.com.pe/falabella-pe/product/20888778/Huawei-Watch-Gt5pro-46mm-Black/20888778'"
   ]
  },
  {
   "cell_type": "markdown",
   "id": "9f359d7a",
   "metadata": {},
   "source": [
    "### **Headers in requests**  \n",
    "Algunos servidores web bloquean solicitudes que no provengan de navegadores reales (como scripts o bots). Al incluir un User-Agent común (como el de Chrome), el servidor cree que la solicitud proviene de un navegador legítimo y es más probable que responda correctamente.\n",
    "\n",
    "Navegador: Chrome.\n",
    "\n",
    "Versión: 91.0.4472.124 (número de compilación)."
   ]
  },
  {
   "cell_type": "code",
   "execution_count": 46,
   "id": "e5c77892",
   "metadata": {},
   "outputs": [],
   "source": [
    "headers = {\n",
    "        \"User-Agent\": \"Mozilla/5.0 (Windows NT 10.0; Win64; x64) AppleWebKit/537.36 (KHTML, like Gecko) Chrome/91.0.4472.124 Safari/537.36\"\n",
    "    }\n",
    "response = requests.get(url, headers=headers)\n",
    "response.raise_for_status() \n",
    "soup = BeautifulSoup(response.text, 'html.parser')"
   ]
  },
  {
   "cell_type": "markdown",
   "id": "19ab64f3",
   "metadata": {},
   "source": [
    "### **Respuesta 200**  \n",
    "Esta es la respuesta HTTP que indica que una solicitud fue exitosa (usando librerías como requests en Python).\n",
    "\n",
    "¿Qué significa?\n",
    "200 = \"OK\" (Éxito)\n",
    "\n",
    "El servidor recibió la solicitud y devolvió los datos correctamente."
   ]
  },
  {
   "cell_type": "code",
   "execution_count": 47,
   "id": "0be6935a",
   "metadata": {},
   "outputs": [
    {
     "data": {
      "text/plain": [
       "<Response [200]>"
      ]
     },
     "execution_count": 47,
     "metadata": {},
     "output_type": "execute_result"
    }
   ],
   "source": [
    "response"
   ]
  },
  {
   "cell_type": "markdown",
   "id": "3bd51237",
   "metadata": {},
   "source": [
    "### **Método `find()` en BeautifulSoup**  \n",
    "\n",
    "El método **`find()`** se usa en BeautifulSoup para **localizar el primer elemento HTML** que coincida con un criterio de búsqueda (etiqueta, clase, ID, etc.).  \n",
    "\n",
    "---\n",
    "\n",
    "#### **Sintaxis Básica**  \n",
    "```python\n",
    "elemento = soup.find(nombre_etiqueta, atributos)\n",
    "```  \n",
    "- **`nombre_etiqueta`**: Nombre de la etiqueta HTML (`'div'`, `'a'`, `'h1'`, etc.).  \n",
    "- **`atributos`** (opcional): Diccionario con atributos como `class`, `id`, etc.  \n",
    "\n",
    "---\n",
    "\n",
    "#### **Ejemplos Prácticos**  \n",
    "\n",
    "1. **Buscar una etiqueta específica**:  \n",
    "   ```python\n",
    "   primer_h1 = soup.find('h1')  # Encuentra el primer <h1>\n",
    "   ```\n",
    "\n",
    "2. **Buscar por clase**:  \n",
    "   ```python\n",
    "   div_contenedor = soup.find('div', class_='contenedor')  # class_ (con guión bajo)\n",
    "   ```\n",
    "\n",
    "3. **Buscar por ID**:  \n",
    "   ```python\n",
    "   seccion = soup.find('div', id='header')  # Encuentra <div id=\"header\">\n",
    "   ```\n",
    "\n",
    "4. **Buscar con múltiples atributos**:  \n",
    "   ```python\n",
    "   boton = soup.find('button', {'class': 'btn', 'type': 'submit'})\n",
    "   ```\n"
   ]
  },
  {
   "cell_type": "markdown",
   "id": "d9cd09ae",
   "metadata": {},
   "source": [
    "# Ejercicios"
   ]
  },
  {
   "cell_type": "markdown",
   "id": "726c710a",
   "metadata": {},
   "source": [
    "1. Extraer el nombre del producto"
   ]
  },
  {
   "cell_type": "code",
   "execution_count": 54,
   "id": "2978416c",
   "metadata": {},
   "outputs": [
    {
     "name": "stdout",
     "output_type": "stream",
     "text": [
      "Huawei Watch Gt5pro 46mm Black\n"
     ]
    }
   ],
   "source": [
    "titulo=soup.find(\"div\", class_=\"jsx-783883818 product-name-wrapper\")\n",
    "print(titulo.text)"
   ]
  },
  {
   "cell_type": "markdown",
   "id": "87535f9e",
   "metadata": {},
   "source": [
    "2. Extraer el nuevo precio"
   ]
  },
  {
   "cell_type": "code",
   "execution_count": 58,
   "id": "38de7485",
   "metadata": {},
   "outputs": [
    {
     "name": "stdout",
     "output_type": "stream",
     "text": [
      "S/  999  \n"
     ]
    }
   ],
   "source": [
    "precio=soup.find(\"span\", class_=\"copy12 primary senary jsx-2835692965 bold line-height-29\")\n",
    "print(precio.text)"
   ]
  },
  {
   "cell_type": "markdown",
   "id": "00e13a06",
   "metadata": {},
   "source": [
    "3. Extraer el precio anterior"
   ]
  },
  {
   "cell_type": "code",
   "execution_count": 73,
   "id": "5683775c",
   "metadata": {},
   "outputs": [
    {
     "name": "stdout",
     "output_type": "stream",
     "text": [
      "S/  1,299  \n"
     ]
    }
   ],
   "source": [
    "precio_anterior=soup.find(\"span\", class_=\"copy1 primary medium jsx-2835692965 normal crossed line-height-19\")\n",
    "print(precio_anterior.text)"
   ]
  },
  {
   "cell_type": "markdown",
   "id": "11d93374",
   "metadata": {},
   "source": [
    "4. Extraer el valor del descuento"
   ]
  },
  {
   "cell_type": "code",
   "execution_count": 75,
   "id": "18807752",
   "metadata": {},
   "outputs": [
    {
     "name": "stdout",
     "output_type": "stream",
     "text": [
      "-23%\n"
     ]
    }
   ],
   "source": [
    "descuento=soup.find(\"span\", class_=\"jsx-1029649255 copy5 primary jsx-2835692965 bold discount-badge-item\")\n",
    "print(descuento.text)"
   ]
  },
  {
   "cell_type": "code",
   "execution_count": null,
   "id": "83e21dcd",
   "metadata": {},
   "outputs": [],
   "source": []
  }
 ],
 "metadata": {
  "kernelspec": {
   "display_name": "Python 3 (ipykernel)",
   "language": "python",
   "name": "python3"
  },
  "language_info": {
   "codemirror_mode": {
    "name": "ipython",
    "version": 3
   },
   "file_extension": ".py",
   "mimetype": "text/x-python",
   "name": "python",
   "nbconvert_exporter": "python",
   "pygments_lexer": "ipython3",
   "version": "3.11.5"
  }
 },
 "nbformat": 4,
 "nbformat_minor": 5
}
